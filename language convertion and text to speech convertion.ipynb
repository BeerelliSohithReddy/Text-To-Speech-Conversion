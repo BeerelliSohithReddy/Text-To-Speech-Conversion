{
 "cells": [
  {
   "cell_type": "code",
   "execution_count": 1,
   "id": "4c2c5323",
   "metadata": {},
   "outputs": [
    {
     "data": {
      "text/html": [
       "\n",
       "                <audio  controls=\"controls\" >\n",
       "                    <source src=\"data:audio/wav;base64,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\" type=\"audio/wav\" />\n",
       "                    Your browser does not support the audio element.\n",
       "                </audio>\n",
       "              "
      ],
      "text/plain": [
       "<IPython.lib.display.Audio object>"
      ]
     },
     "execution_count": 1,
     "metadata": {},
     "output_type": "execute_result"
    }
   ],
   "source": [
    "from gtts import gTTS\n",
    "from IPython.display import Audio\n",
    "Text=gTTS('hi my name is sohith')\n",
    "speach=\"speech.wav\"\n",
    "Text.save(speach)\n",
    "Audio(speach)"
   ]
  },
  {
   "cell_type": "markdown",
   "id": "9a79ac7e",
   "metadata": {},
   "source": [
    "#language convert"
   ]
  },
  {
   "cell_type": "code",
   "execution_count": 8,
   "id": "484bf4a1",
   "metadata": {},
   "outputs": [
    {
     "name": "stdout",
     "output_type": "stream",
     "text": [
      "[('af', 'afrikaans'), ('sq', 'albanian'), ('am', 'amharic'), ('ar', 'arabic'), ('hy', 'armenian'), ('az', 'azerbaijani'), ('eu', 'basque'), ('be', 'belarusian'), ('bn', 'bengali'), ('bs', 'bosnian'), ('bg', 'bulgarian'), ('ca', 'catalan'), ('ceb', 'cebuano'), ('ny', 'chichewa'), ('zh-cn', 'chinese (simplified)'), ('zh-tw', 'chinese (traditional)'), ('co', 'corsican'), ('hr', 'croatian'), ('cs', 'czech'), ('da', 'danish'), ('nl', 'dutch'), ('en', 'english'), ('eo', 'esperanto'), ('et', 'estonian'), ('tl', 'filipino'), ('fi', 'finnish'), ('fr', 'french'), ('fy', 'frisian'), ('gl', 'galician'), ('ka', 'georgian'), ('de', 'german'), ('el', 'greek'), ('gu', 'gujarati'), ('ht', 'haitian creole'), ('ha', 'hausa'), ('haw', 'hawaiian'), ('iw', 'hebrew'), ('he', 'hebrew'), ('hi', 'hindi'), ('hmn', 'hmong'), ('hu', 'hungarian'), ('is', 'icelandic'), ('ig', 'igbo'), ('id', 'indonesian'), ('ga', 'irish'), ('it', 'italian'), ('ja', 'japanese'), ('jw', 'javanese'), ('kn', 'kannada'), ('kk', 'kazakh'), ('km', 'khmer'), ('ko', 'korean'), ('ku', 'kurdish (kurmanji)'), ('ky', 'kyrgyz'), ('lo', 'lao'), ('la', 'latin'), ('lv', 'latvian'), ('lt', 'lithuanian'), ('lb', 'luxembourgish'), ('mk', 'macedonian'), ('mg', 'malagasy'), ('ms', 'malay'), ('ml', 'malayalam'), ('mt', 'maltese'), ('mi', 'maori'), ('mr', 'marathi'), ('mn', 'mongolian'), ('my', 'myanmar (burmese)'), ('ne', 'nepali'), ('no', 'norwegian'), ('or', 'odia'), ('ps', 'pashto'), ('fa', 'persian'), ('pl', 'polish'), ('pt', 'portuguese'), ('pa', 'punjabi'), ('ro', 'romanian'), ('ru', 'russian'), ('sm', 'samoan'), ('gd', 'scots gaelic'), ('sr', 'serbian'), ('st', 'sesotho'), ('sn', 'shona'), ('sd', 'sindhi'), ('si', 'sinhala'), ('sk', 'slovak'), ('sl', 'slovenian'), ('so', 'somali'), ('es', 'spanish'), ('su', 'sundanese'), ('sw', 'swahili'), ('sv', 'swedish'), ('tg', 'tajik'), ('ta', 'tamil'), ('te', 'telugu'), ('th', 'thai'), ('tr', 'turkish'), ('uk', 'ukrainian'), ('ur', 'urdu'), ('ug', 'uyghur'), ('uz', 'uzbek'), ('vi', 'vietnamese'), ('cy', 'welsh'), ('xh', 'xhosa'), ('yi', 'yiddish'), ('yo', 'yoruba'), ('zu', 'zulu')]\n",
      "english text :hi how are you doing\n",
      "converted text:- हाय आप कैसे हैं?\n"
     ]
    }
   ],
   "source": [
    "from googletrans import LANGUAGES\n",
    "total_languages=list(LANGUAGES.items())\n",
    "print(total_languages)\n",
    "from translate import Translator\n",
    "text='hi how are you doing'\n",
    "translator=Translator(to_lang=\"hi\",from_lang=\"en\")\n",
    "convert=translator.translate(text)\n",
    "print(\"english text :\"+text)\n",
    "print(\"converted text:\"+convert)"
   ]
  },
  {
   "cell_type": "code",
   "execution_count": 12,
   "id": "5b27bc79",
   "metadata": {},
   "outputs": [
    {
     "name": "stdout",
     "output_type": "stream",
     "text": [
      "   index            original language            converted language\n",
      "0      0                       Hello!                   Ciao Mondo!\n",
      "1      1               Python is fun.             पायथन मज़ेदार है।\n",
      "2      2          Data science rocks.     डेटा विज्ञान की चट्टानें।\n",
      "3      3                  AI is cool.                  AI अच्छा है।\n",
      "4      4                Translate me.             मेरा अनुवाद करें।\n",
      "5      5      Learning is continuous.              सीखना निरंतर है।\n",
      "6      6          Coding is creative.      कोडिंग क्रिएटिव होती है।\n",
      "7      7          Technology evolves.  प्रौद्योगिकी विकसित होती है।\n",
      "8      8  Innovation drives progress.    इनोवेशन से तरक्की होती है।\n",
      "9      9         Simplify complexity.          जटिलता को सरल बनाएँ।\n"
     ]
    }
   ],
   "source": [
    "import pandas as pd\n",
    "from translate import Translator\n",
    "data={'english text': [\n",
    "\"Hello!\",\n",
    "\"Python is fun.\",\n",
    "\"Data science rocks.\",\n",
    "\"AI is cool.\",\n",
    "\"Translate me.\",\n",
    "\"Learning is continuous.\",\n",
    "\"Coding is creative.\",\n",
    "\"Technology evolves.\",\n",
    "\"Innovation drives progress.\",\n",
    "\"Simplify complexity.\" ]}\n",
    "df=pd.DataFrame(data)\n",
    "translator=Translator(to_lang=\"hi\",from_lang=\"en\")\n",
    "df['hindi_text']=df['english text'].apply(translator.translate)\n",
    "df2=pd.DataFrame({\"index\":df.index,\"original language\":df['english text'],\"converted language\":df['hindi_text']})\n",
    "print(df2)"
   ]
  },
  {
   "cell_type": "code",
   "execution_count": null,
   "id": "c1fe5b75",
   "metadata": {},
   "outputs": [],
   "source": []
  }
 ],
 "metadata": {
  "kernelspec": {
   "display_name": "Python 3 (ipykernel)",
   "language": "python",
   "name": "python3"
  },
  "language_info": {
   "codemirror_mode": {
    "name": "ipython",
    "version": 3
   },
   "file_extension": ".py",
   "mimetype": "text/x-python",
   "name": "python",
   "nbconvert_exporter": "python",
   "pygments_lexer": "ipython3",
   "version": "3.11.5"
  }
 },
 "nbformat": 4,
 "nbformat_minor": 5
}
